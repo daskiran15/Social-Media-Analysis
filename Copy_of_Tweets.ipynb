{
  "nbformat": 4,
  "nbformat_minor": 0,
  "metadata": {
    "colab": {
      "provenance": []
    },
    "kernelspec": {
      "name": "python3",
      "display_name": "Python 3"
    },
    "language_info": {
      "name": "python"
    }
  },
  "cells": [
    {
      "cell_type": "code",
      "source": [
        "import os\n",
        "\n",
        "# List all files in the current directory to verify the upload\n",
        "print(os.listdir())\n"
      ],
      "metadata": {
        "colab": {
          "base_uri": "https://localhost:8080/"
        },
        "id": "3oXkmjdicktr",
        "outputId": "bbbd1355-ff28-40b6-dcbb-a8e97be08729"
      },
      "execution_count": null,
      "outputs": [
        {
          "output_type": "stream",
          "name": "stdout",
          "text": [
            "['.config', 'sample_data']\n"
          ]
        }
      ]
    },
    {
      "cell_type": "code",
      "source": [
        "import pandas as pd\n",
        "\n",
        "\n",
        "social_media_df = pd.read_csv(\"tweets.csv\")\n",
        "\n",
        "# Preview the DataFrame\n",
        "print(social_media_df.head())\n"
      ],
      "metadata": {
        "colab": {
          "base_uri": "https://localhost:8080/"
        },
        "id": "AdBREdT1cqdd",
        "outputId": "dbffb633-e633-4dac-beb3-1a440ff1bb48"
      },
      "execution_count": null,
      "outputs": [
        {
          "output_type": "stream",
          "name": "stdout",
          "text": [
            "                                        Post Content  Likes  \\\n",
            "0  RT @henkbres: Ik ga iedere \\ndag deze #hashtag...      0   \n",
            "1  Just Started The Outrun &amp; It Starts Off Wi...      0   \n",
            "2  RT @henkbres: Ik ga iedere \\ndag deze #hashtag...      0   \n",
            "3                   https://t.co/1jPcyPXamn #Hashtag      0   \n",
            "4  RT @sharmasumit1008: #SI_भर्ती_2021 फर्जीवाड़ा...      0   \n",
            "\n",
            "                       Comments  Shares (Retweets)  \\\n",
            "0  Not available in Twitter API                 41   \n",
            "1  Not available in Twitter API                  0   \n",
            "2  Not available in Twitter API                119   \n",
            "3  Not available in Twitter API                  0   \n",
            "4  Not available in Twitter API                172   \n",
            "\n",
            "                                            Hashtags  \n",
            "0       ['hashtag', 'RT', 'NEXIT', 'NUGRENZENDICHT']  \n",
            "1  ['DEISlop', 'GoWokeGoBroke', 'Hashtag', 'Bring...  \n",
            "2       ['hashtag', 'RT', 'NEXIT', 'NUGRENZENDICHT']  \n",
            "3                                        ['Hashtag']  \n",
            "4                       ['SI_भर्ती_2021', 'Hashtag']  \n"
          ]
        }
      ]
    },
    {
      "cell_type": "code",
      "source": [
        "print(social_media_df.info())  # Summary of the data\n",
        "print(social_media_df.head())  # First few rows\n"
      ],
      "metadata": {
        "colab": {
          "base_uri": "https://localhost:8080/"
        },
        "id": "GsCmTUCXc3NV",
        "outputId": "15171310-927b-4163-ad16-a6de968b7b8e"
      },
      "execution_count": null,
      "outputs": [
        {
          "output_type": "stream",
          "name": "stdout",
          "text": [
            "<class 'pandas.core.frame.DataFrame'>\n",
            "RangeIndex: 100 entries, 0 to 99\n",
            "Data columns (total 5 columns):\n",
            " #   Column             Non-Null Count  Dtype \n",
            "---  ------             --------------  ----- \n",
            " 0   Post Content       100 non-null    object\n",
            " 1   Likes              100 non-null    int64 \n",
            " 2   Comments           100 non-null    object\n",
            " 3   Shares (Retweets)  100 non-null    int64 \n",
            " 4   Hashtags           100 non-null    object\n",
            "dtypes: int64(2), object(3)\n",
            "memory usage: 4.0+ KB\n",
            "None\n",
            "                                        Post Content  Likes  \\\n",
            "0  RT @henkbres: Ik ga iedere \\ndag deze #hashtag...      0   \n",
            "1  Just Started The Outrun &amp; It Starts Off Wi...      0   \n",
            "2  RT @henkbres: Ik ga iedere \\ndag deze #hashtag...      0   \n",
            "3                   https://t.co/1jPcyPXamn #Hashtag      0   \n",
            "4  RT @sharmasumit1008: #SI_भर्ती_2021 फर्जीवाड़ा...      0   \n",
            "\n",
            "                       Comments  Shares (Retweets)  \\\n",
            "0  Not available in Twitter API                 41   \n",
            "1  Not available in Twitter API                  0   \n",
            "2  Not available in Twitter API                119   \n",
            "3  Not available in Twitter API                  0   \n",
            "4  Not available in Twitter API                172   \n",
            "\n",
            "                                            Hashtags  \n",
            "0       ['hashtag', 'RT', 'NEXIT', 'NUGRENZENDICHT']  \n",
            "1  ['DEISlop', 'GoWokeGoBroke', 'Hashtag', 'Bring...  \n",
            "2       ['hashtag', 'RT', 'NEXIT', 'NUGRENZENDICHT']  \n",
            "3                                        ['Hashtag']  \n",
            "4                       ['SI_भर्ती_2021', 'Hashtag']  \n"
          ]
        }
      ]
    },
    {
      "cell_type": "code",
      "source": [
        "print(social_media_df.isnull().sum())\n"
      ],
      "metadata": {
        "colab": {
          "base_uri": "https://localhost:8080/"
        },
        "id": "6YYP7Hhac5d2",
        "outputId": "510ee2b7-edd9-4507-8f42-8eeb2bad7abd"
      },
      "execution_count": null,
      "outputs": [
        {
          "output_type": "stream",
          "name": "stdout",
          "text": [
            "Post Content         0\n",
            "Likes                0\n",
            "Comments             0\n",
            "Shares (Retweets)    0\n",
            "Hashtags             0\n",
            "dtype: int64\n"
          ]
        }
      ]
    },
    {
      "cell_type": "code",
      "source": [
        "# Example: Fill missing Likes and Shares with 0\n",
        "social_media_df[\"Likes\"] = social_media_df[\"Likes\"].fillna(0)\n",
        "social_media_df[\"Shares(Retweets)\"] = social_media_df[\"Shares (Retweets)\"].fillna(0)\n",
        "social_media_df[\"Post Content\"] = social_media_df[\"Post Content\"].fillna(\"No Content\")\n"
      ],
      "metadata": {
        "id": "e7-FlUgxc5ae"
      },
      "execution_count": null,
      "outputs": []
    },
    {
      "cell_type": "code",
      "source": [
        "import ast\n",
        "\n",
        "# Convert stringified lists back to Python lists if needed\n",
        "social_media_df[\"Hashtags\"] = social_media_df[\"Hashtags\"].apply(ast.literal_eval)\n",
        "\n",
        "# Normalize hashtag text to lowercase\n",
        "social_media_df[\"Hashtags\"] = social_media_df[\"Hashtags\"].apply(lambda x: [tag.lower() for tag in x])\n"
      ],
      "metadata": {
        "id": "Phvw89yxdc4b"
      },
      "execution_count": null,
      "outputs": []
    },
    {
      "cell_type": "code",
      "source": [
        "import re\n",
        "\n",
        "def clean_text(text):\n",
        "    text = text.lower()  # Convert to lowercase\n",
        "    text = re.sub(r\"http\\S+\", \"\", text)  # Remove URLs\n",
        "    text = re.sub(r\"[^a-zA-Z0-9\\s#@]\", \"\", text)  # Remove special characters\n",
        "    return text.strip()\n",
        "\n",
        "social_media_df[\"Post Content\"] = social_media_df[\"Post Content\"].apply(clean_text)\n"
      ],
      "metadata": {
        "id": "fOXY1M0vdfFs"
      },
      "execution_count": null,
      "outputs": []
    },
    {
      "cell_type": "code",
      "source": [
        "social_media_df.drop_duplicates(subset=\"Post Content\", inplace=True)\n"
      ],
      "metadata": {
        "id": "UHwo_lnsdfCS"
      },
      "execution_count": null,
      "outputs": []
    },
    {
      "cell_type": "code",
      "source": [
        "social_media_df.to_csv(\"cleaned_social_media_data.csv\", index=False)\n",
        "print(\"Cleaned data saved to cleaned_social_media_data.csv\")\n"
      ],
      "metadata": {
        "colab": {
          "base_uri": "https://localhost:8080/"
        },
        "id": "C_Xvm0n3de_m",
        "outputId": "c354d290-d7d9-4366-e739-35e6c4537360"
      },
      "execution_count": null,
      "outputs": [
        {
          "output_type": "stream",
          "name": "stdout",
          "text": [
            "Cleaned data saved to cleaned_social_media_data.csv\n"
          ]
        }
      ]
    },
    {
      "cell_type": "code",
      "source": [
        "from collections import Counter\n",
        "\n",
        "# Count hashtag occurrences\n",
        "all_hashtags = [hashtag for hashtags in social_media_df[\"Hashtags\"] for hashtag in hashtags]\n",
        "hashtag_counts = Counter(all_hashtags)\n",
        "\n",
        "# Top 10 hashtags\n",
        "popular_hashtags = hashtag_counts.most_common(10)\n",
        "print(\"Top Hashtags:\", popular_hashtags)\n",
        "\n",
        "# Average engagement per hashtag\n",
        "hashtag_engagement = []\n",
        "for hashtag, count in popular_hashtags:\n",
        "    filtered_df = social_media_df[social_media_df[\"Hashtags\"].apply(lambda x: hashtag in x)]\n",
        "    avg_likes = filtered_df[\"Likes\"].mean()\n",
        "    avg_shares = filtered_df[\"Shares(Retweets)\"].mean()\n",
        "    hashtag_engagement.append((hashtag, avg_likes, avg_shares))\n",
        "\n",
        "print(\"Hashtag Engagement:\")\n",
        "for h in hashtag_engagement:\n",
        "    print(f\"Hashtag: {h[0]}, Avg Likes: {h[1]:.2f}, Avg Shares: {h[2]:.2f}\")\n"
      ],
      "metadata": {
        "colab": {
          "base_uri": "https://localhost:8080/"
        },
        "id": "vx4nQi3Zdy9P",
        "outputId": "86821bca-ad8c-4dd0-8b4d-76fc8ee69edd"
      },
      "execution_count": null,
      "outputs": [
        {
          "output_type": "stream",
          "name": "stdout",
          "text": [
            "Top Hashtags: [('hashtag', 17), ('rt', 2), ('nexit', 2), ('nugrenzendicht', 2), ('smoking', 2), ('smokingfetish', 2), ('smoke', 2), ('woman', 2), ('لیڈر_کا_سوچ_اور_قوت_مدافعت', 2), ('meme', 2)]\n",
            "Hashtag Engagement:\n",
            "Hashtag: hashtag, Avg Likes: 5.76, Avg Shares: 17.71\n",
            "Hashtag: rt, Avg Likes: 47.50, Avg Shares: 41.00\n",
            "Hashtag: nexit, Avg Likes: 47.50, Avg Shares: 41.00\n",
            "Hashtag: nugrenzendicht, Avg Likes: 47.50, Avg Shares: 41.00\n",
            "Hashtag: smoking, Avg Likes: 0.00, Avg Shares: 22.50\n",
            "Hashtag: smokingfetish, Avg Likes: 0.00, Avg Shares: 22.50\n",
            "Hashtag: smoke, Avg Likes: 0.00, Avg Shares: 22.50\n",
            "Hashtag: woman, Avg Likes: 0.00, Avg Shares: 22.50\n",
            "Hashtag: لیڈر_کا_سوچ_اور_قوت_مدافعت, Avg Likes: 0.00, Avg Shares: 0.00\n",
            "Hashtag: meme, Avg Likes: 0.00, Avg Shares: 0.00\n"
          ]
        }
      ]
    },
    {
      "cell_type": "code",
      "source": [
        "from textblob import TextBlob\n",
        "\n",
        "# Add a sentiment score column\n",
        "social_media_df[\"Sentiment\"] = social_media_df[\"Post Content\"].apply(lambda text: TextBlob(text).sentiment.polarity)\n",
        "\n",
        "# Correlation analysis\n",
        "correlation = social_media_df[[\"Likes\", \"Shares(Retweets)\", \"Sentiment\"]].corr()\n",
        "print(\"Correlation Matrix:\\n\", correlation)\n"
      ],
      "metadata": {
        "colab": {
          "base_uri": "https://localhost:8080/"
        },
        "id": "8TPlavAydy5x",
        "outputId": "8e613364-4b62-4ff1-b13e-779f2ef30666"
      },
      "execution_count": null,
      "outputs": [
        {
          "output_type": "stream",
          "name": "stdout",
          "text": [
            "Correlation Matrix:\n",
            "                      Likes  Shares(Retweets)  Sentiment\n",
            "Likes             1.000000         -0.008562  -0.133239\n",
            "Shares(Retweets) -0.008562          1.000000   0.255964\n",
            "Sentiment        -0.133239          0.255964   1.000000\n"
          ]
        }
      ]
    },
    {
      "cell_type": "code",
      "source": [
        "import matplotlib.pyplot as plt\n",
        "import seaborn as sns\n",
        "\n",
        "# Plot likes vs. shares for popular hashtags\n",
        "sns.scatterplot(data=social_media_df, x=\"Likes\", y=\"Shares(Retweets)\", hue=\"Sentiment\", palette=\"coolwarm\")\n",
        "plt.title(\"Engagement Metrics for Social Media Posts\")\n",
        "plt.xlabel(\"Likes\")\n",
        "plt.ylabel(\"Shares\")\n",
        "plt.show()\n"
      ],
      "metadata": {
        "colab": {
          "base_uri": "https://localhost:8080/",
          "height": 472
        },
        "id": "PwUTyKUGdy3E",
        "outputId": "4d530bfe-398a-4761-fbd9-369deda641ef"
      },
      "execution_count": null,
      "outputs": [
        {
          "output_type": "display_data",
          "data": {
            "text/plain": [
              "<Figure size 640x480 with 1 Axes>"
            ],
            "image/png": "[encoded data removed]"
          },
          "metadata": {}
        }
      ]
    },
    {
      "cell_type": "code",
      "source": [
        "social_media_df.to_csv(\"final_social_media_data.csv\", index=False)\n",
        "print(\"Final dataset saved to final_social_media_data.csv\")\n"
      ],
      "metadata": {
        "colab": {
          "base_uri": "https://localhost:8080/"
        },
        "id": "--REIWpxeYRm",
        "outputId": "9819be9c-1b98-40c1-ac16-393bab91e837"
      },
      "execution_count": null,
      "outputs": [
        {
          "output_type": "stream",
          "name": "stdout",
          "text": [
            "Final dataset saved to final_social_media_data.csv\n"
          ]
        }
      ]
    }
  ]
}